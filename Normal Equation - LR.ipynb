{
 "cells": [
  {
   "cell_type": "code",
   "execution_count": 1,
   "id": "facf52be",
   "metadata": {},
   "outputs": [],
   "source": [
    "import numpy as np\n",
    "from sklearn.datasets import make_regression"
   ]
  },
  {
   "cell_type": "code",
   "execution_count": 2,
   "id": "e58e9250",
   "metadata": {},
   "outputs": [],
   "source": [
    "x,y = make_regression( n_samples=100, n_features=1,n_informative=1, noise=10, random_state=10)"
   ]
  },
  {
   "cell_type": "code",
   "execution_count": 6,
   "id": "b04540e3",
   "metadata": {},
   "outputs": [],
   "source": [
    "def linear_regression_normal_equation(x,y):\n",
    "    x_transpose = np.transpose(x)\n",
    "    x_transpose_x = np.dot(x_transpose,x)\n",
    "    x_transpose_y = np.dot(x_transpose,y)\n",
    "    \n",
    "    try:\n",
    "        theta = np.linalg.inv(x_transpose_x).dot(x_transpose_y)\n",
    "        return theta\n",
    "    except np.linalg.LinAlgError:\n",
    "        return None"
   ]
  },
  {
   "cell_type": "code",
   "execution_count": 7,
   "id": "d50bb20f",
   "metadata": {},
   "outputs": [],
   "source": [
    "# Adding a Column of ones to x for the intercept Term\n",
    "x_with_intercept = np.c_[np.ones((x.shape[0],1)),x]"
   ]
  },
  {
   "cell_type": "code",
   "execution_count": 8,
   "id": "1531fa37",
   "metadata": {},
   "outputs": [
    {
     "name": "stdout",
     "output_type": "stream",
     "text": [
      "[ 0.52804151 30.65896337]\n"
     ]
    }
   ],
   "source": [
    "theta = linear_regression_normal_equation(x_with_intercept,y)\n",
    "if theta is not None:\n",
    "    print(theta)\n",
    "else:\n",
    "    print('Unable to compute theta. The matrix x_transpose_x is Singular')"
   ]
  },
  {
   "cell_type": "code",
   "execution_count": null,
   "id": "bd3e1ede",
   "metadata": {},
   "outputs": [],
   "source": []
  }
 ],
 "metadata": {
  "kernelspec": {
   "display_name": "Python 3 (ipykernel)",
   "language": "python",
   "name": "python3"
  },
  "language_info": {
   "codemirror_mode": {
    "name": "ipython",
    "version": 3
   },
   "file_extension": ".py",
   "mimetype": "text/x-python",
   "name": "python",
   "nbconvert_exporter": "python",
   "pygments_lexer": "ipython3",
   "version": "3.10.9"
  }
 },
 "nbformat": 4,
 "nbformat_minor": 5
}
